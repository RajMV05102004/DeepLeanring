{
 "cells": [
  {
   "cell_type": "code",
   "execution_count": 181,
   "metadata": {},
   "outputs": [
    {
     "name": "stdout",
     "output_type": "stream",
     "text": [
      "TensorFlow Version: 2.10.0\n"
     ]
    }
   ],
   "source": [
    "import tensorflow as tf\n",
    "print(\"TensorFlow Version:\", tf.__version__)\n"
   ]
  },
  {
   "cell_type": "code",
   "execution_count": 182,
   "metadata": {},
   "outputs": [
    {
     "name": "stdout",
     "output_type": "stream",
     "text": [
      "Num GPUs Available: 1\n",
      "[PhysicalDevice(name='/physical_device:CPU:0', device_type='CPU'), PhysicalDevice(name='/physical_device:GPU:0', device_type='GPU')]\n"
     ]
    }
   ],
   "source": [
    "import tensorflow as tf\n",
    "print(\"Num GPUs Available:\", len(tf.config.list_physical_devices('GPU')))\n",
    "print(tf.config.list_physical_devices())\n"
   ]
  },
  {
   "cell_type": "code",
   "execution_count": 183,
   "metadata": {},
   "outputs": [
    {
     "name": "stdout",
     "output_type": "stream",
     "text": [
      "CUDA Version: 64_112\n",
      "cuDNN Version: 64_8\n"
     ]
    }
   ],
   "source": [
    "import tensorflow as tf\n",
    "print(\"CUDA Version:\", tf.sysconfig.get_build_info()['cuda_version'])\n",
    "print(\"cuDNN Version:\", tf.sysconfig.get_build_info()['cudnn_version'])\n",
    "\n"
   ]
  },
  {
   "cell_type": "code",
   "execution_count": 184,
   "metadata": {},
   "outputs": [
    {
     "name": "stdout",
     "output_type": "stream",
     "text": [
      "Note: you may need to restart the kernel to use updated packages.\n"
     ]
    }
   ],
   "source": [
    "pip list > working_workspace_requirements.txt\n"
   ]
  },
  {
   "cell_type": "markdown",
   "metadata": {},
   "source": [
    "# Day 1"
   ]
  },
  {
   "cell_type": "markdown",
   "metadata": {},
   "source": [
    "1. re (Regular Expressions): Helps in pattern matching and text preprocessing.\n",
    "2. sklearn.utils.shuffle: Randomly shuffles datasets to avoid biases in training.\n",
    "3. tensorflow.keras.layers:\n",
    "    1. Input: Defines input layers for neural networks.\n",
    "    2. LSTM: Long Short-Term Memory layer for sequential data processing (e.g., NLP).\n",
    "    3. Embedding: Converts categorical data into dense vector representations.\n",
    "    4. Dense: Fully connected layer for deep learning models.\n",
    "    5. Bidirectional: Wraps LSTM to process input in both forward and backward directions.\n",
    "4. tensorflow.keras.models.Model: Defines and compiles deep learning models.\n",
    "5. string & digits (from string module): Used for string operations, including handling punctuation and digits."
   ]
  },
  {
   "cell_type": "code",
   "execution_count": 185,
   "metadata": {},
   "outputs": [],
   "source": [
    "import pandas as pd\n",
    "import numpy as np\n",
    "import string\n",
    "from string import digits\n",
    "import matplotlib.pyplot as plt\n",
    "%matplotlib inline\n",
    "import re\n",
    "from sklearn.utils import shuffle\n",
    "from sklearn.model_selection import train_test_split\n",
    "from tensorflow.keras.layers import Input,LSTM,Embedding,Dense,Bidirectional\n",
    "from tensorflow.keras.models import Model"
   ]
  },
  {
   "cell_type": "code",
   "execution_count": 186,
   "metadata": {},
   "outputs": [],
   "source": [
    "data=pd.read_csv(r'C:\\Users\\User\\Downloads\\Dataset_English_Hindi.csv\\Dataset_English_Hindi.csv')"
   ]
  },
  {
   "cell_type": "code",
   "execution_count": 187,
   "metadata": {},
   "outputs": [],
   "source": [
    "data=data.iloc[:3000,:]"
   ]
  },
  {
   "cell_type": "code",
   "execution_count": 188,
   "metadata": {},
   "outputs": [
    {
     "data": {
      "text/html": [
       "<div>\n",
       "<style scoped>\n",
       "    .dataframe tbody tr th:only-of-type {\n",
       "        vertical-align: middle;\n",
       "    }\n",
       "\n",
       "    .dataframe tbody tr th {\n",
       "        vertical-align: top;\n",
       "    }\n",
       "\n",
       "    .dataframe thead th {\n",
       "        text-align: right;\n",
       "    }\n",
       "</style>\n",
       "<table border=\"1\" class=\"dataframe\">\n",
       "  <thead>\n",
       "    <tr style=\"text-align: right;\">\n",
       "      <th></th>\n",
       "      <th>English</th>\n",
       "      <th>Hindi</th>\n",
       "    </tr>\n",
       "  </thead>\n",
       "  <tbody>\n",
       "    <tr>\n",
       "      <th>0</th>\n",
       "      <td>Help!</td>\n",
       "      <td>बचाओ!</td>\n",
       "    </tr>\n",
       "    <tr>\n",
       "      <th>1</th>\n",
       "      <td>Jump.</td>\n",
       "      <td>उछलो.</td>\n",
       "    </tr>\n",
       "    <tr>\n",
       "      <th>2</th>\n",
       "      <td>Jump.</td>\n",
       "      <td>कूदो.</td>\n",
       "    </tr>\n",
       "    <tr>\n",
       "      <th>3</th>\n",
       "      <td>Jump.</td>\n",
       "      <td>छलांग.</td>\n",
       "    </tr>\n",
       "    <tr>\n",
       "      <th>4</th>\n",
       "      <td>Hello!</td>\n",
       "      <td>नमस्ते।</td>\n",
       "    </tr>\n",
       "  </tbody>\n",
       "</table>\n",
       "</div>"
      ],
      "text/plain": [
       "  English    Hindi\n",
       "0   Help!    बचाओ!\n",
       "1   Jump.    उछलो.\n",
       "2   Jump.    कूदो.\n",
       "3   Jump.   छलांग.\n",
       "4  Hello!  नमस्ते।"
      ]
     },
     "execution_count": 188,
     "metadata": {},
     "output_type": "execute_result"
    }
   ],
   "source": [
    "data.head()"
   ]
  },
  {
   "cell_type": "code",
   "execution_count": 189,
   "metadata": {},
   "outputs": [
    {
     "data": {
      "text/plain": [
       "English\n",
       "False    3000\n",
       "Name: count, dtype: int64"
      ]
     },
     "execution_count": 189,
     "metadata": {},
     "output_type": "execute_result"
    }
   ],
   "source": [
    "data['English'].isnull().value_counts()"
   ]
  },
  {
   "cell_type": "code",
   "execution_count": 190,
   "metadata": {},
   "outputs": [
    {
     "data": {
      "text/plain": [
       "Hindi\n",
       "False    3000\n",
       "Name: count, dtype: int64"
      ]
     },
     "execution_count": 190,
     "metadata": {},
     "output_type": "execute_result"
    }
   ],
   "source": [
    "data['Hindi'].isnull().value_counts()"
   ]
  },
  {
   "cell_type": "code",
   "execution_count": 191,
   "metadata": {},
   "outputs": [],
   "source": [
    "data.dropna(inplace=True)"
   ]
  },
  {
   "cell_type": "code",
   "execution_count": 192,
   "metadata": {},
   "outputs": [
    {
     "data": {
      "text/plain": [
       "(3000, 2)"
      ]
     },
     "execution_count": 192,
     "metadata": {},
     "output_type": "execute_result"
    }
   ],
   "source": [
    "data.shape"
   ]
  },
  {
   "cell_type": "code",
   "execution_count": 193,
   "metadata": {},
   "outputs": [
    {
     "data": {
      "text/html": [
       "<div>\n",
       "<style scoped>\n",
       "    .dataframe tbody tr th:only-of-type {\n",
       "        vertical-align: middle;\n",
       "    }\n",
       "\n",
       "    .dataframe tbody tr th {\n",
       "        vertical-align: top;\n",
       "    }\n",
       "\n",
       "    .dataframe thead th {\n",
       "        text-align: right;\n",
       "    }\n",
       "</style>\n",
       "<table border=\"1\" class=\"dataframe\">\n",
       "  <thead>\n",
       "    <tr style=\"text-align: right;\">\n",
       "      <th></th>\n",
       "      <th>English</th>\n",
       "      <th>Hindi</th>\n",
       "    </tr>\n",
       "  </thead>\n",
       "  <tbody>\n",
       "    <tr>\n",
       "      <th>count</th>\n",
       "      <td>3000</td>\n",
       "      <td>3000</td>\n",
       "    </tr>\n",
       "    <tr>\n",
       "      <th>unique</th>\n",
       "      <td>2793</td>\n",
       "      <td>2922</td>\n",
       "    </tr>\n",
       "    <tr>\n",
       "      <th>top</th>\n",
       "      <td>Is your father a teacher?</td>\n",
       "      <td>उसे सब पसंद करते हैं।</td>\n",
       "    </tr>\n",
       "    <tr>\n",
       "      <th>freq</th>\n",
       "      <td>9</td>\n",
       "      <td>4</td>\n",
       "    </tr>\n",
       "  </tbody>\n",
       "</table>\n",
       "</div>"
      ],
      "text/plain": [
       "                          English                  Hindi\n",
       "count                        3000                   3000\n",
       "unique                       2793                   2922\n",
       "top     Is your father a teacher?  उसे सब पसंद करते हैं।\n",
       "freq                            9                      4"
      ]
     },
     "execution_count": 193,
     "metadata": {},
     "output_type": "execute_result"
    }
   ],
   "source": [
    "data.describe()"
   ]
  },
  {
   "cell_type": "markdown",
   "metadata": {},
   "source": [
    "# Preprocessing"
   ]
  },
  {
   "cell_type": "code",
   "execution_count": 194,
   "metadata": {},
   "outputs": [],
   "source": [
    "# Convert everything into LOWER case\n",
    "data.English=data.English.apply(lambda x: x.lower())\n",
    "data.Hindi=data.Hindi.apply(lambda x: x.lower())\n",
    "\n",
    "# Remove Quotes\n",
    "data.English=data.English.apply(lambda x: re.sub(\"'\",'',x))\n",
    "data.Hindi=data.Hindi.apply(lambda x: re.sub(\"'\",'',x))\n",
    "\n",
    "# Set of all special characters\n",
    "exclude=set(string.punctuation)\n",
    "\n",
    "# Remove all Special characters stored in the above set 'exclude'\n",
    "data.English=data.English.apply(lambda x:''.join(ch for ch in x if ch not in exclude))\n",
    "data.Hindi=data.Hindi.apply(lambda x:''.join(ch for ch in x if ch not in exclude))\n",
    "\n",
    "#Removing Hindi punctuations explicitly\n",
    "hindi_punctuation = '।॥“”‘’'\n",
    "data.Hindi = data.Hindi.apply(lambda x: re.sub(f\"[{hindi_punctuation}]\", \"\", x))\n",
    "\n",
    "\n",
    "# Remove all numbers from the text\n",
    "remove_digits=str.maketrans('','',digits)#creates a translation table that removes all digits (0-9) from a string when used with .translate().\n",
    "data.English=data.English.apply(lambda x: x.translate(remove_digits))\n",
    "data.Hindi = data.Hindi.apply(lambda x: re.sub(\"[२३०८१५७९४६]\", \"\", x))\n",
    "\n",
    "# Remove all extra spaces\n",
    "data.English=data.English.apply(lambda x: x.strip())\n",
    "data.Hindi=data.Hindi.apply(lambda x: x.strip())\n",
    "data.English=data.English.apply(lambda x : re.sub(' +',' ',x))\n",
    "data.Hindi=data.Hindi.apply(lambda x : re.sub(' +',' ',x))\n",
    "\n",
    "data.Hindi=data.Hindi.apply(lambda x: 'START_ '+x+' _END')\n"
   ]
  },
  {
   "cell_type": "markdown",
   "metadata": {},
   "source": [
    "Text Preprocessing Summary\n",
    "1. Lowercasing – Converts all text to lowercase.\n",
    "2. Remove Quotes & Special Characters – Eliminates punctuation and single quotes.\n",
    "3. Remove Numbers – Deletes English digits (0-9) and specific Hindi numerals.\n",
    "4. Remove Extra Spaces – Strips leading/trailing spaces and replaces multiple spaces with a single one.\n",
    "5. Add Start & End Tokens (Hindi) – Wraps Hindi text with \"START_+ \" and \" _END\" for sequence modeling."
   ]
  },
  {
   "cell_type": "code",
   "execution_count": 195,
   "metadata": {},
   "outputs": [
    {
     "data": {
      "text/html": [
       "<div>\n",
       "<style scoped>\n",
       "    .dataframe tbody tr th:only-of-type {\n",
       "        vertical-align: middle;\n",
       "    }\n",
       "\n",
       "    .dataframe tbody tr th {\n",
       "        vertical-align: top;\n",
       "    }\n",
       "\n",
       "    .dataframe thead th {\n",
       "        text-align: right;\n",
       "    }\n",
       "</style>\n",
       "<table border=\"1\" class=\"dataframe\">\n",
       "  <thead>\n",
       "    <tr style=\"text-align: right;\">\n",
       "      <th></th>\n",
       "      <th>English</th>\n",
       "      <th>Hindi</th>\n",
       "    </tr>\n",
       "  </thead>\n",
       "  <tbody>\n",
       "    <tr>\n",
       "      <th>408</th>\n",
       "      <td>its very hot here</td>\n",
       "      <td>START_ यहाँ बहुत गरम है _END</td>\n",
       "    </tr>\n",
       "    <tr>\n",
       "      <th>2687</th>\n",
       "      <td>im not saying that your answers are always wrong</td>\n",
       "      <td>START_ मैं यह नहीं कह रही हूँ कि तुम्हारे उत्त...</td>\n",
       "    </tr>\n",
       "    <tr>\n",
       "      <th>1773</th>\n",
       "      <td>please pardon me for coming late</td>\n",
       "      <td>START_ मुझे देर से आने के लिए माफ़ कीजिएगा _END</td>\n",
       "    </tr>\n",
       "    <tr>\n",
       "      <th>2751</th>\n",
       "      <td>we communicate with each other by telephone ev...</td>\n",
       "      <td>START_ हम रोज़ एकदूसरे से फ़ोन पर बात करते हैं...</td>\n",
       "    </tr>\n",
       "    <tr>\n",
       "      <th>536</th>\n",
       "      <td>he married for money</td>\n",
       "      <td>START_ उसने पैसों के लिए शादी की _END</td>\n",
       "    </tr>\n",
       "  </tbody>\n",
       "</table>\n",
       "</div>"
      ],
      "text/plain": [
       "                                                English  \\\n",
       "408                                   its very hot here   \n",
       "2687   im not saying that your answers are always wrong   \n",
       "1773                   please pardon me for coming late   \n",
       "2751  we communicate with each other by telephone ev...   \n",
       "536                                he married for money   \n",
       "\n",
       "                                                  Hindi  \n",
       "408                        START_ यहाँ बहुत गरम है _END  \n",
       "2687  START_ मैं यह नहीं कह रही हूँ कि तुम्हारे उत्त...  \n",
       "1773    START_ मुझे देर से आने के लिए माफ़ कीजिएगा _END  \n",
       "2751  START_ हम रोज़ एकदूसरे से फ़ोन पर बात करते हैं...  \n",
       "536               START_ उसने पैसों के लिए शादी की _END  "
      ]
     },
     "execution_count": 195,
     "metadata": {},
     "output_type": "execute_result"
    }
   ],
   "source": [
    "data.sample(5)"
   ]
  },
  {
   "cell_type": "code",
   "execution_count": 196,
   "metadata": {},
   "outputs": [],
   "source": [
    "# English Vocabulary\n",
    "english_vocab = set()\n",
    "for sentence in data.English:\n",
    "    for word in sentence.split():\n",
    "        english_vocab.add(word)  # No need for the extra 'if' check\n",
    "\n",
    "# Hindi Vocabulary\n",
    "hindi_vocab = set()\n",
    "for sentence in data.Hindi:\n",
    "    for word in sentence.split():\n",
    "        hindi_vocab.add(word)  # No need for the extra 'if' check\n"
   ]
  },
  {
   "cell_type": "code",
   "execution_count": 197,
   "metadata": {},
   "outputs": [],
   "source": [
    "# Max Length of Source sequence\n",
    "length_list=[]\n",
    "for l in data.English:\n",
    "    length_list.append(len(l.split(' ')))\n",
    "max_length_src=np.max(length_list)\n",
    "\n",
    "# Max Length of Target sequence\n",
    "length_list=[]\n",
    "for l in data.Hindi:\n",
    "    length_list.append(len(l.split(' ')))\n",
    "max_length_tar=np.max(length_list)\n"
   ]
  },
  {
   "cell_type": "code",
   "execution_count": 198,
   "metadata": {},
   "outputs": [],
   "source": [
    "input_words=sorted(list(english_vocab))\n",
    "target_words=sorted(list(hindi_vocab))\n",
    "\n",
    "num_encoder_tokens=len(english_vocab)\n",
    "num_decoder_tokens=len(hindi_vocab)\n",
    "num_encoder_tokens,num_decoder_tokens\n",
    "\n",
    "# for 0 padding\n",
    "num_decoder_tokens+=1\n"
   ]
  },
  {
   "cell_type": "code",
   "execution_count": 199,
   "metadata": {},
   "outputs": [
    {
     "data": {
      "text/plain": [
       "2937"
      ]
     },
     "execution_count": 199,
     "metadata": {},
     "output_type": "execute_result"
    }
   ],
   "source": [
    "num_encoder_tokens"
   ]
  },
  {
   "cell_type": "code",
   "execution_count": 200,
   "metadata": {},
   "outputs": [],
   "source": [
    "input_token_index=dict([word,i+1] for i,word in enumerate(input_words))\n",
    "target_token_index=dict([word,i+1] for i,word in enumerate(target_words))\n",
    "\n",
    "reverse_input_char_index = dict((i, word) for word, i in input_token_index.items())\n",
    "reverse_target_char_index = dict((i, word) for word, i in target_token_index.items())"
   ]
  },
  {
   "cell_type": "code",
   "execution_count": 201,
   "metadata": {},
   "outputs": [],
   "source": [
    "variables={\n",
    "    'input_token_index':input_token_index,\n",
    "    'target_token_index':target_token_index,\n",
    "    'reverse_input_char_index':reverse_input_char_index,\n",
    "    'reverse_target_char_index':reverse_target_char_index,\n",
    "    'num_encoder_tokens':num_encoder_tokens,\n",
    "    'num_decoder_tokens':num_decoder_tokens,\n",
    "    'max_length_src':max_length_src,\n",
    "    'max_length_tar':max_length_tar\n",
    "}"
   ]
  },
  {
   "cell_type": "code",
   "execution_count": 202,
   "metadata": {},
   "outputs": [],
   "source": [
    "import pickle"
   ]
  },
  {
   "cell_type": "code",
   "execution_count": 203,
   "metadata": {},
   "outputs": [
    {
     "name": "stdout",
     "output_type": "stream",
     "text": [
      "Variables saved to 'variables.pkl'.\n"
     ]
    }
   ],
   "source": [
    "with open('variables.pkl', 'wb') as file:\n",
    "    pickle.dump(variables, file)\n",
    "\n",
    "print(\"Variables saved to 'variables.pkl'.\")"
   ]
  },
  {
   "cell_type": "code",
   "execution_count": 204,
   "metadata": {},
   "outputs": [
    {
     "name": "stdout",
     "output_type": "stream",
     "text": [
      "1193\n",
      "1263\n",
      "90\n",
      "1454\n",
      "2654\n"
     ]
    }
   ],
   "source": [
    "for i in ['hello','i','am','learning','translation']:\n",
    "    print(input_token_index.get(i,0))\n",
    "    "
   ]
  },
  {
   "cell_type": "code",
   "execution_count": 205,
   "metadata": {},
   "outputs": [
    {
     "data": {
      "text/html": [
       "<div>\n",
       "<style scoped>\n",
       "    .dataframe tbody tr th:only-of-type {\n",
       "        vertical-align: middle;\n",
       "    }\n",
       "\n",
       "    .dataframe tbody tr th {\n",
       "        vertical-align: top;\n",
       "    }\n",
       "\n",
       "    .dataframe thead th {\n",
       "        text-align: right;\n",
       "    }\n",
       "</style>\n",
       "<table border=\"1\" class=\"dataframe\">\n",
       "  <thead>\n",
       "    <tr style=\"text-align: right;\">\n",
       "      <th></th>\n",
       "      <th>English</th>\n",
       "      <th>Hindi</th>\n",
       "    </tr>\n",
       "  </thead>\n",
       "  <tbody>\n",
       "    <tr>\n",
       "      <th>184</th>\n",
       "      <td>are you at home</td>\n",
       "      <td>START_ तुम घर पे हो क्या _END</td>\n",
       "    </tr>\n",
       "    <tr>\n",
       "      <th>1385</th>\n",
       "      <td>i like both science and math</td>\n",
       "      <td>START_ मुझे विज्ञान और गणित दोनों पसंद हैं _END</td>\n",
       "    </tr>\n",
       "    <tr>\n",
       "      <th>1408</th>\n",
       "      <td>please wait for five minutes</td>\n",
       "      <td>START_ कृपया पाँच मिनट इंतेज़ार करें _END</td>\n",
       "    </tr>\n",
       "    <tr>\n",
       "      <th>312</th>\n",
       "      <td>i cried all night</td>\n",
       "      <td>START_ मैं पूरी रात रोई _END</td>\n",
       "    </tr>\n",
       "    <tr>\n",
       "      <th>2234</th>\n",
       "      <td>i am fully convinced of your innocence</td>\n",
       "      <td>START_ मुझे तुम्हारे बेगुनाह होने पर पूरा यकीन...</td>\n",
       "    </tr>\n",
       "  </tbody>\n",
       "</table>\n",
       "</div>"
      ],
      "text/plain": [
       "                                     English  \\\n",
       "184                          are you at home   \n",
       "1385            i like both science and math   \n",
       "1408            please wait for five minutes   \n",
       "312                        i cried all night   \n",
       "2234  i am fully convinced of your innocence   \n",
       "\n",
       "                                                  Hindi  \n",
       "184                       START_ तुम घर पे हो क्या _END  \n",
       "1385    START_ मुझे विज्ञान और गणित दोनों पसंद हैं _END  \n",
       "1408          START_ कृपया पाँच मिनट इंतेज़ार करें _END  \n",
       "312                        START_ मैं पूरी रात रोई _END  \n",
       "2234  START_ मुझे तुम्हारे बेगुनाह होने पर पूरा यकीन...  "
      ]
     },
     "execution_count": 205,
     "metadata": {},
     "output_type": "execute_result"
    }
   ],
   "source": [
    "data=shuffle(data)\n",
    "data.head()"
   ]
  },
  {
   "cell_type": "markdown",
   "metadata": {},
   "source": [
    "# Preprocessing Complete"
   ]
  },
  {
   "cell_type": "code",
   "execution_count": 206,
   "metadata": {},
   "outputs": [],
   "source": [
    "# Save as pickle\n",
    "with open(\"preprocessed_data.pkl\", \"wb\") as f:\n",
    "    pickle.dump(data, f)"
   ]
  },
  {
   "cell_type": "markdown",
   "metadata": {},
   "source": [
    "# Day 2"
   ]
  },
  {
   "cell_type": "code",
   "execution_count": 207,
   "metadata": {},
   "outputs": [],
   "source": [
    "import pandas as pd\n",
    "import numpy as np\n",
    "import string\n",
    "from string import digits\n",
    "import matplotlib.pyplot as plt\n",
    "%matplotlib inline\n",
    "import re\n",
    "from sklearn.utils import shuffle\n",
    "from sklearn.model_selection import train_test_split\n",
    "from tensorflow.keras.layers import Input,LSTM,Embedding,Dense,Bidirectional\n",
    "from tensorflow.keras.models import Model\n",
    "from tensorflow.keras.layers import Concatenate\n",
    "from tensorflow.keras.utils import plot_model\n",
    "import tensorflow as tf\n",
    "import pickle"
   ]
  },
  {
   "cell_type": "code",
   "execution_count": 208,
   "metadata": {},
   "outputs": [
    {
     "data": {
      "text/html": [
       "<div>\n",
       "<style scoped>\n",
       "    .dataframe tbody tr th:only-of-type {\n",
       "        vertical-align: middle;\n",
       "    }\n",
       "\n",
       "    .dataframe tbody tr th {\n",
       "        vertical-align: top;\n",
       "    }\n",
       "\n",
       "    .dataframe thead th {\n",
       "        text-align: right;\n",
       "    }\n",
       "</style>\n",
       "<table border=\"1\" class=\"dataframe\">\n",
       "  <thead>\n",
       "    <tr style=\"text-align: right;\">\n",
       "      <th></th>\n",
       "      <th>English</th>\n",
       "      <th>Hindi</th>\n",
       "    </tr>\n",
       "  </thead>\n",
       "  <tbody>\n",
       "    <tr>\n",
       "      <th>184</th>\n",
       "      <td>are you at home</td>\n",
       "      <td>START_ तुम घर पे हो क्या _END</td>\n",
       "    </tr>\n",
       "    <tr>\n",
       "      <th>1385</th>\n",
       "      <td>i like both science and math</td>\n",
       "      <td>START_ मुझे विज्ञान और गणित दोनों पसंद हैं _END</td>\n",
       "    </tr>\n",
       "    <tr>\n",
       "      <th>1408</th>\n",
       "      <td>please wait for five minutes</td>\n",
       "      <td>START_ कृपया पाँच मिनट इंतेज़ार करें _END</td>\n",
       "    </tr>\n",
       "    <tr>\n",
       "      <th>312</th>\n",
       "      <td>i cried all night</td>\n",
       "      <td>START_ मैं पूरी रात रोई _END</td>\n",
       "    </tr>\n",
       "    <tr>\n",
       "      <th>2234</th>\n",
       "      <td>i am fully convinced of your innocence</td>\n",
       "      <td>START_ मुझे तुम्हारे बेगुनाह होने पर पूरा यकीन...</td>\n",
       "    </tr>\n",
       "  </tbody>\n",
       "</table>\n",
       "</div>"
      ],
      "text/plain": [
       "                                     English  \\\n",
       "184                          are you at home   \n",
       "1385            i like both science and math   \n",
       "1408            please wait for five minutes   \n",
       "312                        i cried all night   \n",
       "2234  i am fully convinced of your innocence   \n",
       "\n",
       "                                                  Hindi  \n",
       "184                       START_ तुम घर पे हो क्या _END  \n",
       "1385    START_ मुझे विज्ञान और गणित दोनों पसंद हैं _END  \n",
       "1408          START_ कृपया पाँच मिनट इंतेज़ार करें _END  \n",
       "312                        START_ मैं पूरी रात रोई _END  \n",
       "2234  START_ मुझे तुम्हारे बेगुनाह होने पर पूरा यकीन...  "
      ]
     },
     "execution_count": 208,
     "metadata": {},
     "output_type": "execute_result"
    }
   ],
   "source": [
    "import pickle\n",
    "# Load it back\n",
    "with open(\"preprocessed_data.pkl\", \"rb\") as f:\n",
    "    data = pickle.load(f)\n",
    "\n",
    "data.head()"
   ]
  },
  {
   "cell_type": "code",
   "execution_count": 209,
   "metadata": {},
   "outputs": [],
   "source": [
    "data['inp_len']=data.English.apply(lambda x:len(x.split()))\n",
    "data['tar_len']=data.Hindi.apply(lambda x:len(x.split()))"
   ]
  },
  {
   "cell_type": "code",
   "execution_count": 210,
   "metadata": {},
   "outputs": [
    {
     "data": {
      "text/html": [
       "<div>\n",
       "<style scoped>\n",
       "    .dataframe tbody tr th:only-of-type {\n",
       "        vertical-align: middle;\n",
       "    }\n",
       "\n",
       "    .dataframe tbody tr th {\n",
       "        vertical-align: top;\n",
       "    }\n",
       "\n",
       "    .dataframe thead th {\n",
       "        text-align: right;\n",
       "    }\n",
       "</style>\n",
       "<table border=\"1\" class=\"dataframe\">\n",
       "  <thead>\n",
       "    <tr style=\"text-align: right;\">\n",
       "      <th></th>\n",
       "      <th>English</th>\n",
       "      <th>Hindi</th>\n",
       "      <th>inp_len</th>\n",
       "      <th>tar_len</th>\n",
       "    </tr>\n",
       "  </thead>\n",
       "  <tbody>\n",
       "    <tr>\n",
       "      <th>2017</th>\n",
       "      <td>a hundred years is called a century</td>\n",
       "      <td>START_ सौ सालों को एक शतक बुलाया जाता है _END</td>\n",
       "      <td>7</td>\n",
       "      <td>10</td>\n",
       "    </tr>\n",
       "    <tr>\n",
       "      <th>2101</th>\n",
       "      <td>could you bring me another hot towel</td>\n",
       "      <td>START_ मेरे लिए एक और गरम तौलिया ला सकते हैं क...</td>\n",
       "      <td>7</td>\n",
       "      <td>12</td>\n",
       "    </tr>\n",
       "    <tr>\n",
       "      <th>1477</th>\n",
       "      <td>i have not seen him in months</td>\n",
       "      <td>START_ मैंने उसे महीनों से नहीं देखा है _END</td>\n",
       "      <td>7</td>\n",
       "      <td>9</td>\n",
       "    </tr>\n",
       "    <tr>\n",
       "      <th>210</th>\n",
       "      <td>i want a guitar</td>\n",
       "      <td>START_ मुझे गिटार चाहिए _END</td>\n",
       "      <td>4</td>\n",
       "      <td>5</td>\n",
       "    </tr>\n",
       "    <tr>\n",
       "      <th>2282</th>\n",
       "      <td>he has invited me to attend his wedding</td>\n",
       "      <td>START_ उसने मुझे अपनी शादी में आने का का न्योत...</td>\n",
       "      <td>8</td>\n",
       "      <td>13</td>\n",
       "    </tr>\n",
       "  </tbody>\n",
       "</table>\n",
       "</div>"
      ],
      "text/plain": [
       "                                      English  \\\n",
       "2017      a hundred years is called a century   \n",
       "2101     could you bring me another hot towel   \n",
       "1477            i have not seen him in months   \n",
       "210                           i want a guitar   \n",
       "2282  he has invited me to attend his wedding   \n",
       "\n",
       "                                                  Hindi  inp_len  tar_len  \n",
       "2017      START_ सौ सालों को एक शतक बुलाया जाता है _END        7       10  \n",
       "2101  START_ मेरे लिए एक और गरम तौलिया ला सकते हैं क...        7       12  \n",
       "1477       START_ मैंने उसे महीनों से नहीं देखा है _END        7        9  \n",
       "210                        START_ मुझे गिटार चाहिए _END        4        5  \n",
       "2282  START_ उसने मुझे अपनी शादी में आने का का न्योत...        8       13  "
      ]
     },
     "execution_count": 210,
     "metadata": {},
     "output_type": "execute_result"
    }
   ],
   "source": [
    "data.sample(5)"
   ]
  },
  {
   "cell_type": "code",
   "execution_count": 211,
   "metadata": {},
   "outputs": [
    {
     "data": {
      "text/plain": [
       "((2400,), (600,))"
      ]
     },
     "execution_count": 211,
     "metadata": {},
     "output_type": "execute_result"
    }
   ],
   "source": [
    "X,y=data.English,data.Hindi\n",
    "X_train,X_test,y_train,y_test=train_test_split(X,y,test_size=0.2,random_state=42)\n",
    "X_train.shape,X_test.shape"
   ]
  },
  {
   "cell_type": "code",
   "execution_count": 212,
   "metadata": {},
   "outputs": [],
   "source": [
    "X_train.to_pickle('X_train.pkl')\n",
    "X_test.to_pickle('X_test.pkl')"
   ]
  },
  {
   "cell_type": "code",
   "execution_count": 213,
   "metadata": {},
   "outputs": [
    {
     "name": "stdout",
     "output_type": "stream",
     "text": [
      "Variables Loaded successfully\n"
     ]
    }
   ],
   "source": [
    "# Load from pickle file\n",
    "with open('variables.pkl', 'rb') as file:\n",
    "    loaded_variables = pickle.load(file)\n",
    "print('Variables Loaded successfully')"
   ]
  },
  {
   "cell_type": "code",
   "execution_count": 214,
   "metadata": {},
   "outputs": [],
   "source": [
    "# Access the variables after loading\n",
    "num_encoder_tokens = loaded_variables['num_encoder_tokens']\n",
    "num_decoder_tokens = loaded_variables['num_decoder_tokens']\n",
    "max_length_src = loaded_variables['max_length_src']\n",
    "max_length_tar = loaded_variables['max_length_tar']\n",
    "\n",
    "input_token_index=loaded_variables['input_token_index']\n",
    "target_token_index=loaded_variables['target_token_index']\n",
    "reverse_input_char_index=loaded_variables['reverse_input_char_index']\n",
    "reverse_target_char_index=loaded_variables['reverse_target_char_index']"
   ]
  },
  {
   "cell_type": "code",
   "execution_count": 215,
   "metadata": {},
   "outputs": [],
   "source": [
    "def generate_batch(X, y, batch_size):\n",
    "    while True:\n",
    "        for j in range(0, len(X), batch_size):\n",
    "            current_batch_size = min(batch_size, len(X) - j)\n",
    "            \n",
    "            encoder_input_data = np.zeros((current_batch_size, max_length_src), dtype='float32')\n",
    "            decoder_input_data = np.zeros((current_batch_size, max_length_tar), dtype='float32')\n",
    "            decoder_target_data = np.zeros((current_batch_size, max_length_tar, num_decoder_tokens), dtype='float32')\n",
    "\n",
    "            for i, (input_text, target_text) in enumerate(zip(X[j:j+batch_size], y[j:j+batch_size])):\n",
    "                input_words = input_text.split()\n",
    "                target_words = target_text.split()\n",
    "                \n",
    "                # Fill encoder_input_data\n",
    "                for t, word in enumerate(input_words):\n",
    "                    encoder_input_data[i, t] = input_token_index.get(word, 0)  # Handle unknown words\n",
    "                \n",
    "                # Fill decoder_input_data and decoder_target_data\n",
    "                for t, word in enumerate(target_words):\n",
    "                    decoder_input_data[i, t] = target_token_index.get(word, 0)\n",
    "                    if t > 0:\n",
    "                        decoder_target_data[i, t - 1, target_token_index.get(word, 0)] = 1.0  # One-hot\n",
    "\n",
    "            # print(f\"Batch generated: encoder_input_data shape: {encoder_input_data.shape}, \"\n",
    "            #       f\"decoder_input_data shape: {decoder_input_data.shape}, \"\n",
    "            #       f\"decoder_target_data shape: {decoder_target_data.shape}\")\n",
    "             # Reverse encoder input sequences\n",
    "            #encoder_input_data_reversed = np.array([seq[::-1] for seq in encoder_input_data])\n",
    "\n",
    "            yield ([encoder_input_data, decoder_input_data], decoder_target_data)"
   ]
  },
  {
   "cell_type": "markdown",
   "metadata": {},
   "source": [
    "# Understanding `decoder_target_data` Structure\n",
    "\n",
    "## Given Conditions:\n",
    "- `batch_size = 3`\n",
    "- `max_length_tar = 2`\n",
    "- `num_decoder_tokens = 3`\n",
    "\n",
    "## Target Vocabulary and One-Hot Encoding:\n",
    "| Token | One-Hot Encoding |\n",
    "|--------|----------------|\n",
    "| A      | [1 0 0]       |\n",
    "| B      | [0 1 0]       |\n",
    "| C      | [0 0 1]       |\n",
    "\n",
    "## Example Sentences and Their One-Hot Representations:\n",
    "We have three sentences: `AB`, `BC`, and `AC`.\n",
    "\n",
    "```python\n",
    "decoder_target_data = np.array([\n",
    "    [[1, 0, 0], [0, 1, 0]],  # Sentence: \"AB\"\n",
    "    [[0, 1, 0], [0, 0, 1]],  # Sentence: \"BC\"\n",
    "    [[1, 0, 0], [0, 0, 1]]   # Sentence: \"AC\"\n",
    "])\n"
   ]
  },
  {
   "cell_type": "code",
   "execution_count": 216,
   "metadata": {},
   "outputs": [],
   "source": [
    "latent_dim=100"
   ]
  },
  {
   "cell_type": "code",
   "execution_count": 217,
   "metadata": {},
   "outputs": [],
   "source": [
    "from tensorflow.keras.layers import concatenate\n"
   ]
  },
  {
   "cell_type": "code",
   "execution_count": 218,
   "metadata": {},
   "outputs": [],
   "source": [
    "# Encoder Input\n",
    "encoder_inputs = Input(shape=(None,))  \n",
    "\n",
    "# Embedding Layer\n",
    "enc_emb = Embedding(input_dim=num_encoder_tokens+1, output_dim=latent_dim, mask_zero=True)(encoder_inputs)\n",
    "\n",
    "# First Bidirectional LSTM Layer (returns sequences)\n",
    "encoder_lstm1 = Bidirectional(LSTM(units=latent_dim, return_sequences=True, return_state=True))\n",
    "encoder_outputs1, forward_h1, forward_c1, backward_h1, backward_c1 = encoder_lstm1(enc_emb)\n",
    "\n",
    "# Second Bidirectional LSTM Layer (returns sequences and final states)\n",
    "encoder_lstm2 = Bidirectional(LSTM(units=latent_dim, return_sequences=False, return_state=True))\n",
    "encoder_outputs2, forward_h2, forward_c2, backward_h2, backward_c2 = encoder_lstm2(encoder_outputs1)\n",
    "\n",
    "# Concatenate final forward and backward states\n",
    "state_h = Concatenate()([forward_h2, backward_h2])\n",
    "state_c = Concatenate()([forward_c2, backward_c2])\n",
    "\n",
    "# Final encoder states\n",
    "encoder_states = [state_h, state_c]"
   ]
  },
  {
   "cell_type": "code",
   "execution_count": 219,
   "metadata": {},
   "outputs": [],
   "source": [
    "# Decoder Inputs\n",
    "decoder_inputs = Input(shape=(None,))\n",
    "decoder_emb_layer = Embedding(input_dim=num_decoder_tokens, output_dim=latent_dim, mask_zero=True)\n",
    "dec_emb = decoder_emb_layer(decoder_inputs)\n",
    "\n",
    "#By mask_zero = True, the model will ignore the 0s as it has 0 contribution in the target sentence\n",
    "'''We set up our decoder to return full output sequences, \n",
    "and to return internal states as well. We don't use the\n",
    "return states in the training model but we will use \n",
    "it for inference'''\n",
    "\n",
    "# Adjust the LSTM units to match the new encoder state size (2 * latent_dim)\n",
    "decoder_lstm = LSTM(units=2 * latent_dim, return_sequences=True, return_state=True)\n",
    "\n",
    "# Since encoder states are now twice the size, they are passed directly\n",
    "decoder_outputs, _, _ = decoder_lstm(dec_emb, initial_state=encoder_states)\n",
    "\n",
    "# Dense layer for final output\n",
    "decoder_dense = Dense(units=num_decoder_tokens, activation='softmax')\n",
    "decoder_outputs = decoder_dense(decoder_outputs)\n",
    "\n",
    "''' Define the model that will turn 'encoder_input_data' &\n",
    "'decoder_input_data' to 'decoder_target_data' '''\n",
    "\n",
    "# Define the full translator model\n",
    "translator = Model([encoder_inputs, decoder_inputs], decoder_outputs)\n"
   ]
  },
  {
   "cell_type": "code",
   "execution_count": 220,
   "metadata": {},
   "outputs": [],
   "source": [
    "optimizer=tf.keras.optimizers.RMSprop(learning_rate=0.001)"
   ]
  },
  {
   "cell_type": "code",
   "execution_count": 221,
   "metadata": {},
   "outputs": [],
   "source": [
    "translator.compile(optimizer=optimizer,loss='categorical_crossentropy',metrics=['accuracy'])"
   ]
  },
  {
   "cell_type": "code",
   "execution_count": 222,
   "metadata": {},
   "outputs": [
    {
     "name": "stdout",
     "output_type": "stream",
     "text": [
      "Model: \"model_9\"\n",
      "__________________________________________________________________________________________________\n",
      " Layer (type)                   Output Shape         Param #     Connected to                     \n",
      "==================================================================================================\n",
      " input_14 (InputLayer)          [(None, None)]       0           []                               \n",
      "                                                                                                  \n",
      " embedding_7 (Embedding)        (None, None, 100)    293800      ['input_14[0][0]']               \n",
      "                                                                                                  \n",
      " bidirectional_6 (Bidirectional  [(None, None, 200),  160800     ['embedding_7[0][0]']            \n",
      " )                               (None, 100),                                                     \n",
      "                                 (None, 100),                                                     \n",
      "                                 (None, 100),                                                     \n",
      "                                 (None, 100)]                                                     \n",
      "                                                                                                  \n",
      " input_15 (InputLayer)          [(None, None)]       0           []                               \n",
      "                                                                                                  \n",
      " bidirectional_7 (Bidirectional  [(None, 200),       240800      ['bidirectional_6[0][0]']        \n",
      " )                               (None, 100),                                                     \n",
      "                                 (None, 100),                                                     \n",
      "                                 (None, 100),                                                     \n",
      "                                 (None, 100)]                                                     \n",
      "                                                                                                  \n",
      " embedding_8 (Embedding)        (None, None, 100)    355100      ['input_15[0][0]']               \n",
      "                                                                                                  \n",
      " concatenate_6 (Concatenate)    (None, 200)          0           ['bidirectional_7[0][1]',        \n",
      "                                                                  'bidirectional_7[0][3]']        \n",
      "                                                                                                  \n",
      " concatenate_7 (Concatenate)    (None, 200)          0           ['bidirectional_7[0][2]',        \n",
      "                                                                  'bidirectional_7[0][4]']        \n",
      "                                                                                                  \n",
      " lstm_12 (LSTM)                 [(None, None, 200),  240800      ['embedding_8[0][0]',            \n",
      "                                 (None, 200),                     'concatenate_6[0][0]',          \n",
      "                                 (None, 200)]                     'concatenate_7[0][0]']          \n",
      "                                                                                                  \n",
      " dense_3 (Dense)                (None, None, 3551)   713751      ['lstm_12[0][0]']                \n",
      "                                                                                                  \n",
      "==================================================================================================\n",
      "Total params: 2,005,051\n",
      "Trainable params: 2,005,051\n",
      "Non-trainable params: 0\n",
      "__________________________________________________________________________________________________\n"
     ]
    }
   ],
   "source": [
    "translator.summary()"
   ]
  },
  {
   "cell_type": "code",
   "execution_count": 223,
   "metadata": {},
   "outputs": [
    {
     "data": {
      "image/png": "[encoded data removed]",
      "text/plain": [
       "<IPython.core.display.Image object>"
      ]
     },
     "execution_count": 223,
     "metadata": {},
     "output_type": "execute_result"
    }
   ],
   "source": [
    "# Assuming 'model' is your Keras model\n",
    "plot_model(translator, to_file='translator.png', show_shapes=True, show_layer_names=True)\n",
    "\n",
    "#print(\"Model plot saved as 'model_plot.png'.\")\n"
   ]
  },
  {
   "cell_type": "code",
   "execution_count": 224,
   "metadata": {},
   "outputs": [],
   "source": [
    "train_samples=len(X_train)\n",
    "val_samples=len(X_test)\n",
    "batch_size=128\n",
    "epochs=250\n",
    "steps_per_epoch=train_samples//batch_size,\n",
    "validation_steps=val_samples//batch_size"
   ]
  },
  {
   "cell_type": "code",
   "execution_count": 225,
   "metadata": {},
   "outputs": [
    {
     "data": {
      "text/plain": [
       "2400"
      ]
     },
     "execution_count": 225,
     "metadata": {},
     "output_type": "execute_result"
    }
   ],
   "source": [
    "train_samples"
   ]
  },
  {
   "cell_type": "code",
   "execution_count": 226,
   "metadata": {},
   "outputs": [
    {
     "data": {
      "text/plain": [
       "600"
      ]
     },
     "execution_count": 226,
     "metadata": {},
     "output_type": "execute_result"
    }
   ],
   "source": [
    "val_samples"
   ]
  },
  {
   "cell_type": "code",
   "execution_count": 229,
   "metadata": {},
   "outputs": [],
   "source": [
    "from tensorflow.keras.callbacks import EarlyStopping\n",
    "\n",
    "# Define EarlyStopping callback\n",
    "early_stopping = EarlyStopping(\n",
    "    monitor='val_loss',   # Monitor validation loss\n",
    "    patience=10,          # Stop if val_loss doesn't improve for 10 epochs\n",
    "    restore_best_weights=True,  # Restore best model weights after stopping\n",
    "    verbose=1\n",
    ")\n",
    "\n",
    "#callbacks=[early_stopping]  # Add early stopping here"
   ]
  },
  {
   "cell_type": "code",
   "execution_count": 230,
   "metadata": {},
   "outputs": [
    {
     "name": "stdout",
     "output_type": "stream",
     "text": [
      "Epoch 1/80\n",
      "18/18 [==============================] - 19s 1s/step - loss: 0.5639 - accuracy: 0.1158 - val_loss: 0.5664 - val_accuracy: 0.1232\n",
      "Epoch 2/80\n",
      "18/18 [==============================] - 7s 403ms/step - loss: 0.5559 - accuracy: 0.1195 - val_loss: 0.5649 - val_accuracy: 0.1275\n",
      "Epoch 3/80\n",
      "18/18 [==============================] - 7s 397ms/step - loss: 0.5474 - accuracy: 0.1231 - val_loss: 0.5622 - val_accuracy: 0.1292\n",
      "Epoch 4/80\n",
      "18/18 [==============================] - 7s 403ms/step - loss: 0.5342 - accuracy: 0.1265 - val_loss: 0.5605 - val_accuracy: 0.1320\n",
      "Epoch 5/80\n",
      "18/18 [==============================] - 7s 401ms/step - loss: 0.5317 - accuracy: 0.1266 - val_loss: 0.5590 - val_accuracy: 0.1339\n",
      "Epoch 6/80\n",
      "18/18 [==============================] - 7s 403ms/step - loss: 0.5223 - accuracy: 0.1290 - val_loss: 0.5592 - val_accuracy: 0.1328\n",
      "Epoch 7/80\n",
      "18/18 [==============================] - 7s 404ms/step - loss: 0.5147 - accuracy: 0.1318 - val_loss: 0.5556 - val_accuracy: 0.1365\n",
      "Epoch 8/80\n",
      "18/18 [==============================] - 7s 402ms/step - loss: 0.5062 - accuracy: 0.1367 - val_loss: 0.5548 - val_accuracy: 0.1382\n",
      "Epoch 9/80\n",
      "18/18 [==============================] - 7s 403ms/step - loss: 0.5002 - accuracy: 0.1408 - val_loss: 0.5537 - val_accuracy: 0.1418\n",
      "Epoch 10/80\n",
      "18/18 [==============================] - 7s 408ms/step - loss: 0.4929 - accuracy: 0.1441 - val_loss: 0.5530 - val_accuracy: 0.1424\n",
      "Epoch 11/80\n",
      "18/18 [==============================] - 7s 403ms/step - loss: 0.4864 - accuracy: 0.1473 - val_loss: 0.5511 - val_accuracy: 0.1405\n",
      "Epoch 12/80\n",
      "18/18 [==============================] - 7s 401ms/step - loss: 0.4788 - accuracy: 0.1494 - val_loss: 0.5503 - val_accuracy: 0.1443\n",
      "Epoch 13/80\n",
      "18/18 [==============================] - 7s 399ms/step - loss: 0.4764 - accuracy: 0.1518 - val_loss: 0.5503 - val_accuracy: 0.1405\n",
      "Epoch 14/80\n",
      "18/18 [==============================] - 7s 408ms/step - loss: 0.4686 - accuracy: 0.1552 - val_loss: 0.5469 - val_accuracy: 0.1473\n",
      "Epoch 15/80\n",
      "18/18 [==============================] - 7s 403ms/step - loss: 0.4616 - accuracy: 0.1588 - val_loss: 0.5468 - val_accuracy: 0.1484\n",
      "Epoch 16/80\n",
      "18/18 [==============================] - 7s 401ms/step - loss: 0.4531 - accuracy: 0.1630 - val_loss: 0.5457 - val_accuracy: 0.1495\n",
      "Epoch 17/80\n",
      "18/18 [==============================] - 7s 399ms/step - loss: 0.4535 - accuracy: 0.1629 - val_loss: 0.5466 - val_accuracy: 0.1503\n",
      "Epoch 18/80\n",
      "18/18 [==============================] - 7s 403ms/step - loss: 0.4465 - accuracy: 0.1662 - val_loss: 0.5479 - val_accuracy: 0.1571\n",
      "Epoch 19/80\n",
      "18/18 [==============================] - 7s 406ms/step - loss: 0.4435 - accuracy: 0.1700 - val_loss: 0.5483 - val_accuracy: 0.1495\n",
      "Epoch 20/80\n",
      "18/18 [==============================] - 7s 405ms/step - loss: 0.4372 - accuracy: 0.1713 - val_loss: 0.5451 - val_accuracy: 0.1546\n",
      "Epoch 21/80\n",
      "18/18 [==============================] - 7s 404ms/step - loss: 0.4345 - accuracy: 0.1735 - val_loss: 0.5451 - val_accuracy: 0.1574\n",
      "Epoch 22/80\n",
      "18/18 [==============================] - 7s 401ms/step - loss: 0.4306 - accuracy: 0.1790 - val_loss: 0.5448 - val_accuracy: 0.1606\n",
      "Epoch 23/80\n",
      "18/18 [==============================] - 7s 403ms/step - loss: 0.4230 - accuracy: 0.1798 - val_loss: 0.5458 - val_accuracy: 0.1606\n",
      "Epoch 24/80\n",
      "18/18 [==============================] - 7s 402ms/step - loss: 0.4234 - accuracy: 0.1816 - val_loss: 0.5470 - val_accuracy: 0.1595\n",
      "Epoch 25/80\n",
      "18/18 [==============================] - 7s 401ms/step - loss: 0.4173 - accuracy: 0.1849 - val_loss: 0.5449 - val_accuracy: 0.1603\n",
      "Epoch 26/80\n",
      "18/18 [==============================] - 7s 403ms/step - loss: 0.4123 - accuracy: 0.1869 - val_loss: 0.5451 - val_accuracy: 0.1588\n",
      "Epoch 27/80\n",
      "18/18 [==============================] - 7s 403ms/step - loss: 0.4085 - accuracy: 0.1886 - val_loss: 0.5444 - val_accuracy: 0.1610\n",
      "Epoch 28/80\n",
      "18/18 [==============================] - 7s 402ms/step - loss: 0.4056 - accuracy: 0.1930 - val_loss: 0.5445 - val_accuracy: 0.1648\n",
      "Epoch 29/80\n",
      "18/18 [==============================] - 7s 401ms/step - loss: 0.4010 - accuracy: 0.1958 - val_loss: 0.5454 - val_accuracy: 0.1665\n",
      "Epoch 30/80\n",
      "18/18 [==============================] - 7s 401ms/step - loss: 0.3975 - accuracy: 0.1978 - val_loss: 0.5456 - val_accuracy: 0.1652\n",
      "Epoch 31/80\n",
      "18/18 [==============================] - 10s 547ms/step - loss: 0.3923 - accuracy: 0.2039 - val_loss: 0.5452 - val_accuracy: 0.1678\n",
      "Epoch 32/80\n",
      "18/18 [==============================] - 10s 536ms/step - loss: 0.3918 - accuracy: 0.2039 - val_loss: 0.5465 - val_accuracy: 0.1652\n",
      "Epoch 33/80\n",
      "18/18 [==============================] - 10s 542ms/step - loss: 0.3863 - accuracy: 0.2062 - val_loss: 0.5464 - val_accuracy: 0.1704\n",
      "Epoch 34/80\n",
      "18/18 [==============================] - 11s 592ms/step - loss: 0.3821 - accuracy: 0.2128 - val_loss: 0.5481 - val_accuracy: 0.1691\n",
      "Epoch 35/80\n",
      "18/18 [==============================] - 11s 628ms/step - loss: 0.3756 - accuracy: 0.2139 - val_loss: 0.5497 - val_accuracy: 0.1672\n",
      "Epoch 36/80\n",
      "18/18 [==============================] - 10s 544ms/step - loss: 0.3767 - accuracy: 0.2167 - val_loss: 0.5491 - val_accuracy: 0.1667\n",
      "Epoch 37/80\n",
      "18/18 [==============================] - ETA: 0s - loss: 0.3725 - accuracy: 0.2204Restoring model weights from the end of the best epoch: 27.\n",
      "18/18 [==============================] - 10s 553ms/step - loss: 0.3725 - accuracy: 0.2204 - val_loss: 0.5505 - val_accuracy: 0.1701\n",
      "Epoch 37: early stopping\n"
     ]
    }
   ],
   "source": [
    "# Train the model with early stopping\n",
    "history = translator.fit(\n",
    "    generate_batch(X_train, y_train, batch_size),\n",
    "    steps_per_epoch=len(X_train) // batch_size,\n",
    "    epochs=80,\n",
    "    validation_data=generate_batch(X_test, y_test, batch_size),\n",
    "    validation_steps=len(X_test) // batch_size,\n",
    "    callbacks=[early_stopping]    \n",
    ")"
   ]
  },
  {
   "cell_type": "code",
   "execution_count": 231,
   "metadata": {},
   "outputs": [
    {
     "data": {
      "text/plain": [
       "'Saving the weights of the trained model'"
      ]
     },
     "execution_count": 231,
     "metadata": {},
     "output_type": "execute_result"
    }
   ],
   "source": [
    "translator.save_weights('translator_weights.h5')\n",
    "'''Saving the weights of the trained model'''"
   ]
  },
  {
   "cell_type": "code",
   "execution_count": 232,
   "metadata": {},
   "outputs": [],
   "source": [
    "translator.load_weights('translator_weights.h5')"
   ]
  },
  {
   "cell_type": "markdown",
   "metadata": {},
   "source": [
    "# Encoder Model Implementation Refernece \n",
    "# cell[33]\n",
    "```python\n",
    "# Encoder Input\n",
    "encoder_inputs = Input(shape=(None,))  \n",
    "\n",
    "# Embedding Layer\n",
    "enc_emb = Embedding(input_dim=num_encoder_tokens+1, output_dim=latent_dim, mask_zero=True)(encoder_inputs)\n",
    "\n",
    "# First Bidirectional LSTM Layer (returns sequences)\n",
    "encoder_lstm1 = Bidirectional(LSTM(units=latent_dim, return_sequences=True, return_state=True))\n",
    "encoder_outputs1, forward_h1, forward_c1, backward_h1, backward_c1 = encoder_lstm1(enc_emb)\n",
    "\n",
    "# Second Bidirectional LSTM Layer (returns sequences and final states)\n",
    "encoder_lstm2 = Bidirectional(LSTM(units=latent_dim, return_sequences=False, return_state=True))\n",
    "encoder_outputs2, forward_h2, forward_c2, backward_h2, backward_c2 = encoder_lstm2(encoder_outputs1)\n",
    "\n",
    "# Concatenate final forward and backward states\n",
    "state_h = Concatenate()([forward_h2, backward_h2])\n",
    "state_c = Concatenate()([forward_c2, backward_c2])\n",
    "\n",
    "# Final encoder states\n",
    "encoder_states = [state_h, state_c]\n",
    "```\n"
   ]
  },
  {
   "cell_type": "markdown",
   "metadata": {},
   "source": [
    "# Decoder Model Implementation Reference\n",
    "# cell[34]\n",
    "```python\n",
    "\n",
    "# Decoder Inputs\n",
    "decoder_inputs = Input(shape=(None,))\n",
    "\n",
    "# Embedding layer for decoder inputs\n",
    "decoder_emb_layer = Embedding(input_dim=num_decoder_tokens, output_dim=latent_dim, mask_zero=True)\n",
    "dec_emb = decoder_emb_layer(decoder_inputs)\n",
    "\n",
    "# By setting mask_zero=True, the model ignores padding 0s in the target sentence\n",
    "'''\n",
    "We set up our decoder to return full output sequences \n",
    "and internal states. While we don't use the returned states \n",
    "in training, they are necessary for inference.\n",
    "'''\n",
    "\n",
    "# Adjust the LSTM units to match the new encoder state size (2 * latent_dim)\n",
    "decoder_lstm = LSTM(units=2 * latent_dim, return_sequences=True, return_state=True)\n",
    "\n",
    "# Since encoder states are now twice the size, they are passed directly\n",
    "decoder_outputs, _, _ = decoder_lstm(dec_emb, initial_state=encoder_states)\n",
    "\n",
    "# Dense layer for final output\n",
    "decoder_dense = Dense(units=num_decoder_tokens, activation='softmax')\n",
    "decoder_outputs = decoder_dense(decoder_outputs)\n",
    "\n",
    "'''\n",
    "Define the model that will turn 'encoder_input_data' & \n",
    "'decoder_input_data' into 'decoder_target_data'.\n",
    "'''\n",
    "\n",
    "# Define the full translator model\n",
    "translator = Model([encoder_inputs, decoder_inputs], decoder_outputs)\n",
    "```\n"
   ]
  },
  {
   "cell_type": "code",
   "execution_count": 233,
   "metadata": {},
   "outputs": [],
   "source": [
    "#Encode the input sequence to get the \"Context vectors\"\n",
    "encoder_model=Model(encoder_inputs, encoder_states)\n",
    "\n",
    "# Adjust decoder state inputs to match bidirectional encoder\n",
    "decoder_state_input_h = Input(shape=(2 * latent_dim,))\n",
    "decoder_state_input_c = Input(shape=(2 * latent_dim,))\n",
    "decoder_states_inputs = [decoder_state_input_h, decoder_state_input_c]\n",
    "\n",
    "dec_emb2 = decoder_emb_layer(decoder_inputs)  # Decoder embeddings\n",
    "\n",
    "# Decoder LSTM should also have 2 * latent_dim units\n",
    "decoder_outputs2, state_h2, state_c2 = decoder_lstm(dec_emb2, \n",
    "                                                     initial_state=decoder_states_inputs)\n",
    "\n",
    "decoder_states2 = [state_h2, state_c2]\n",
    "decoder_outputs2 = decoder_dense(decoder_outputs2)  # Softmax layer for word prediction\n",
    "\n",
    "# Final Inference Decoder Model\n",
    "decoder_model = Model(\n",
    "    [decoder_inputs] + decoder_states_inputs,  # Inputs: target word + previous states\n",
    "    [decoder_outputs2] + decoder_states2  # Outputs: predicted word + updated states\n",
    ")\n"
   ]
  },
  {
   "cell_type": "code",
   "execution_count": 234,
   "metadata": {},
   "outputs": [],
   "source": [
    "def decode_sequence(input_seq):\n",
    "    # Encode the input as state vectors\n",
    "    states_value = encoder_model.predict(input_seq)\n",
    "\n",
    "    # Create target sequence with only the start token\n",
    "    target_seq = np.zeros((1, 1))\n",
    "    target_seq[0, 0] = target_token_index['START_']  # Replace with your start token\n",
    "\n",
    "    stop_condition = False\n",
    "    decoded_sentence = ''\n",
    "\n",
    "    while not stop_condition:\n",
    "        output_tokens, h, c = decoder_model.predict([target_seq] + states_value)\n",
    "\n",
    "        # Sample a token\n",
    "        sampled_token_index = np.argmax(output_tokens[0, -1, :])\n",
    "        sampled_word = reverse_target_char_index[sampled_token_index]\n",
    "        decoded_sentence += ' ' + sampled_word\n",
    "\n",
    "        # Stop if the end token is generated or sentence is too long\n",
    "        if (sampled_word == '_END'):\n",
    "            stop_condition = True\n",
    "\n",
    "        # Update the target sequence (feeding back predicted word)\n",
    "        target_seq = np.zeros((1, 1))\n",
    "        target_seq[0, 0] = sampled_token_index\n",
    "\n",
    "        # Update states (important!)\n",
    "        states_value = [h, c]  # Update decoder state for next prediction\n",
    "\n",
    "    return decoded_sentence\n"
   ]
  },
  {
   "cell_type": "code",
   "execution_count": 235,
   "metadata": {},
   "outputs": [],
   "source": [
    "data=shuffle(data)"
   ]
  },
  {
   "cell_type": "code",
   "execution_count": 236,
   "metadata": {},
   "outputs": [],
   "source": [
    "test_gen = generate_batch(data.English, data.Hindi, batch_size = 1)\n",
    "k=0"
   ]
  },
  {
   "cell_type": "code",
   "execution_count": 237,
   "metadata": {},
   "outputs": [
    {
     "name": "stdout",
     "output_type": "stream",
     "text": [
      "1/1 [==============================] - 9s 9s/step\n",
      "1/1 [==============================] - 2s 2s/step\n",
      "1/1 [==============================] - 0s 50ms/step\n",
      "1/1 [==============================] - 0s 62ms/step\n",
      "1/1 [==============================] - 0s 48ms/step\n",
      "1/1 [==============================] - 0s 46ms/step\n",
      "1/1 [==============================] - 0s 48ms/step\n",
      "1/1 [==============================] - 0s 46ms/step\n",
      "Input English sentence: id rather not meet him\n",
      "Actual Hindi Translation:  हो सके तो मैं उससे मिलना नहीं चाहूँगा \n",
      "Predicted Hindi Translation:  मुझे उसे बहुत लिए नहीं है \n"
     ]
    }
   ],
   "source": [
    "k+=1\n",
    "(input_seq, actual_output), _ = next(test_gen)\n",
    "decoded_sentence = decode_sequence(input_seq)\n",
    "print('Input English sentence:', data.English[k:k+1].values[0])\n",
    "print('Actual Hindi Translation:', data.Hindi[k:k+1].values[0][6:-4])\n",
    "print('Predicted Hindi Translation:', decoded_sentence[:-4])"
   ]
  },
  {
   "cell_type": "code",
   "execution_count": 238,
   "metadata": {},
   "outputs": [],
   "source": [
    "test_train = generate_batch(X_train, y_train, batch_size = 1)\n",
    "k=-1"
   ]
  },
  {
   "cell_type": "code",
   "execution_count": 239,
   "metadata": {},
   "outputs": [
    {
     "name": "stdout",
     "output_type": "stream",
     "text": [
      "1/1 [==============================] - 0s 47ms/step\n",
      "1/1 [==============================] - 0s 54ms/step\n",
      "1/1 [==============================] - 0s 48ms/step\n",
      "1/1 [==============================] - 0s 48ms/step\n",
      "1/1 [==============================] - 0s 48ms/step\n",
      "1/1 [==============================] - 0s 36ms/step\n",
      "1/1 [==============================] - 0s 43ms/step\n",
      "1/1 [==============================] - 0s 48ms/step\n",
      "Input English sentence: he deals in furniture\n",
      "Actual Hindi Translation:  वो फ़र्निचर का व्यापार करता है \n",
      "Predicted Hindi Translation:  वह अपने लिए नहीं नहीं है \n"
     ]
    }
   ],
   "source": [
    "k+=15\n",
    "(input_seq, actual_output), _ = next(test_gen)\n",
    "decoded_sentence = decode_sequence(input_seq)\n",
    "print('Input English sentence:', X_test[k:k+1].values[0])\n",
    "print('Actual Hindi Translation:', y_test[k:k+1].values[0][6:-4])\n",
    "print('Predicted Hindi Translation:', decoded_sentence[:-4])"
   ]
  },
  {
   "cell_type": "code",
   "execution_count": 240,
   "metadata": {},
   "outputs": [
    {
     "name": "stdout",
     "output_type": "stream",
     "text": [
      "1263\n",
      "1532\n",
      "2923\n"
     ]
    }
   ],
   "source": [
    "l=['i','love','you']\n",
    "\n",
    "for i in l:\n",
    "    x=input_token_index.get(i,0)\n",
    "    print(x)\n",
    "   "
   ]
  },
  {
   "cell_type": "code",
   "execution_count": 241,
   "metadata": {},
   "outputs": [
    {
     "name": "stdout",
     "output_type": "stream",
     "text": [
      "1/1 [==============================] - 15s 15s/step\n",
      "1/1 [==============================] - 0s 48ms/step\n",
      "1/1 [==============================] - 0s 47ms/step\n",
      "1/1 [==============================] - 0s 37ms/step\n",
      "1/1 [==============================] - 0s 39ms/step\n",
      "1/1 [==============================] - 0s 47ms/step\n"
     ]
    },
    {
     "data": {
      "text/plain": [
       "' मैं उसे प्यार है _END'"
      ]
     },
     "execution_count": 241,
     "metadata": {},
     "output_type": "execute_result"
    }
   ],
   "source": [
    "l=['i','love','you']\n",
    "decoded_sentence = decode_sequence([[1263,1532,2923]])\n",
    "decoded_sentence"
   ]
  }
 ],
 "metadata": {
  "kernelspec": {
   "display_name": "venv",
   "language": "python",
   "name": "python3"
  },
  "language_info": {
   "codemirror_mode": {
    "name": "ipython",
    "version": 3
   },
   "file_extension": ".py",
   "mimetype": "text/x-python",
   "name": "python",
   "nbconvert_exporter": "python",
   "pygments_lexer": "ipython3",
   "version": "3.10.0"
  }
 },
 "nbformat": 4,
 "nbformat_minor": 2
}
